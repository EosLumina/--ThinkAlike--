{
 "cells": [
  {
   "cell_type": "markdown",
   "id": "2631e0b4",
   "metadata": {},
   "source": [
    "### Installation Issue: Matplotlib Build Canceled\n",
    "\n",
    "The log indicates that the build of matplotlib was canceled. This may be due to a timeout, resource constraints, or a network issue during package installation. Please try re-running the installation or check the system logs for more details about the cancellation."
   ]
  },
  {
   "cell_type": "code",
   "execution_count": null,
   "id": "7307863a",
   "metadata": {
    "vscode": {
     "languageId": "bash"
    }
   },
   "outputs": [],
   "source": [
    "# Re-run the matplotlib installation without cache to force a fresh build\n",
    "pip install matplotlib --no-cache-dir"
   ]
  }
 ],
 "metadata": {
  "language_info": {
   "name": "python"
  }
 },
 "nbformat": 4,
 "nbformat_minor": 5
}
