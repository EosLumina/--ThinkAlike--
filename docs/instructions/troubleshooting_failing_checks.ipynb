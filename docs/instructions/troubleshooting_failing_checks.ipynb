{
 "cells": [
  {
   "cell_type": "markdown",
   "id": "ff17b0fd",
   "metadata": {},
   "source": [
    "# Troubleshooting Failing Checks\n",
    "Our CI/CD workflows are failing in several jobs. Use the following steps to diagnose and resolve the issues:\n",
    "\n",
    "1. **Review Logs**:\n",
    "   - Check detailed logs from failing jobs (e.g., Build, Test, Deploy).\n",
    "   - Identify which steps are failing or timing out.\n",
    "\n",
    "2. **Verify Dependencies**:\n",
    "   - Ensure that `requirements.txt` and `requirements-test.txt` correctly pin versions (e.g., numpy, pandas, etc.).\n",
    "   - Update any dependencies if necessary to resolve conflicts.\n",
    "\n",
    "3. **Consolidate Workflows**:\n",
    "   - Confirm that there are no redundant or conflicting workflows running in parallel.\n",
    "\n",
    "4. **Optimize Test Execution**:\n",
    "   - If tests are timing out, try increasing timeout limits or optimizing test cases.\n",
    "\n",
    "5. **Merge Stable Changes**:\n",
    "   - Once the fixes are verified by re-running the pipelines, merge the changes into main."
   ]
  },
  {
   "cell_type": "code",
   "execution_count": null,
   "id": "72af7b1b",
   "metadata": {},
   "outputs": [],
   "source": [
    "# Example: Command to fetch the latest logs via the GitHub CLI\n",
    "import os\n",
    "os.system('gh run list')\n",
    "os.system('gh run view <run-id> --log')\n",
    "\n",
    "# Replace <run-id> with the ID of the failed job to view detailed error logs."
   ]
  },
  {
   "cell_type": "markdown",
   "id": "1aa4955c",
   "metadata": {},
   "source": [
    "## Next Steps\n",
    "1. **Investigate Logs**: Start by reviewing the logs identified in the cell above.\n",
    "2. **Update Dependencies & Scripts**: Apply any needed updates to fix dependency conflicts or build issues.\n",
    "3. **Re-run Pipelines**: Push updates and verify that all checks pass.\n",
    "4. **Merge and Communicate**: When stable, merge your changes and update your team with detailed commit messages.\n",
    "\n",
    "If further issues occur, provide specific error messages for additional assistance."
   ]
  }
 ],
 "metadata": {
  "language_info": {
   "name": "python"
  }
 },
 "nbformat": 4,
 "nbformat_minor": 5
}
